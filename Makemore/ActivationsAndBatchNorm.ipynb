{
 "cells": [
  {
   "cell_type": "code",
   "execution_count": null,
   "id": "8cbe4d82",
   "metadata": {},
   "outputs": [],
   "source": [
    "#If the initial weights are too confident with wrong values by randomly initializing it might lead to heavy losses in first few epochs\n",
    "#if the input to tanh layer isn't gaussian then it'll saturate values at its extreme ends-> can be avoided by kaiming init\n",
    "#batch normalize to make it gaussian\n",
    "#running mean and std to finally forward pass a single value if needed"
   ]
  },
  {
   "cell_type": "code",
   "execution_count": 1,
   "id": "96173634",
   "metadata": {},
   "outputs": [],
   "source": [
    "import torch\n",
    "import torch.nn.functional as F\n",
    "import matplotlib.pyplot as plt "
   ]
  },
  {
   "cell_type": "code",
   "execution_count": 2,
   "id": "cb90821f",
   "metadata": {},
   "outputs": [
    {
     "data": {
      "text/plain": [
       "['emma', 'olivia', 'ava', 'isabella', 'sophia', 'charlotte', 'mia', 'amelia']"
      ]
     },
     "execution_count": 2,
     "metadata": {},
     "output_type": "execute_result"
    }
   ],
   "source": [
    "words = open('names.txt', 'r').read().splitlines()\n",
    "words[:8]"
   ]
  },
  {
   "cell_type": "code",
   "execution_count": 3,
   "id": "6bed4cce",
   "metadata": {},
   "outputs": [
    {
     "data": {
      "text/plain": [
       "32033"
      ]
     },
     "execution_count": 3,
     "metadata": {},
     "output_type": "execute_result"
    }
   ],
   "source": [
    "len(words)"
   ]
  },
  {
   "cell_type": "code",
   "execution_count": 4,
   "id": "40b38540",
   "metadata": {},
   "outputs": [
    {
     "name": "stdout",
     "output_type": "stream",
     "text": [
      "{1: 'a', 2: 'b', 3: 'c', 4: 'd', 5: 'e', 6: 'f', 7: 'g', 8: 'h', 9: 'i', 10: 'j', 11: 'k', 12: 'l', 13: 'm', 14: 'n', 15: 'o', 16: 'p', 17: 'q', 18: 'r', 19: 's', 20: 't', 21: 'u', 22: 'v', 23: 'w', 24: 'x', 25: 'y', 26: 'z', 0: '.'}\n"
     ]
    }
   ],
   "source": [
    "# build the vocabulary of characters and mappings to/from integers\n",
    "chars = sorted(list(set(''.join(words))))\n",
    "stoi = {s:i+1 for i,s in enumerate(chars)}\n",
    "stoi['.'] = 0\n",
    "itos = {i:s for s,i in stoi.items()}\n",
    "print(itos)"
   ]
  },
  {
   "cell_type": "code",
   "execution_count": 5,
   "id": "f95652b7",
   "metadata": {},
   "outputs": [],
   "source": [
    "vocab_size = len(itos)"
   ]
  },
  {
   "cell_type": "code",
   "execution_count": 6,
   "id": "b7ec496d",
   "metadata": {},
   "outputs": [
    {
     "name": "stdout",
     "output_type": "stream",
     "text": [
      "torch.Size([182625, 3]) torch.Size([182625])\n",
      "torch.Size([22655, 3]) torch.Size([22655])\n",
      "torch.Size([22866, 3]) torch.Size([22866])\n"
     ]
    }
   ],
   "source": [
    "# build the dataset\n",
    "block_size = 3 # context length: how many characters do we take to predict the next one?\n",
    "\n",
    "def build_dataset(words):\n",
    "    X, Y = [], []\n",
    "    for w in words:\n",
    "\n",
    "        #print(w)\n",
    "        context = [0] * block_size\n",
    "        for ch in w + '.':\n",
    "            ix = stoi[ch]\n",
    "            X.append(context)\n",
    "            Y.append(ix)\n",
    "            #print(''.join(itos[i] for i in context), '--->', itos[ix])\n",
    "            context = context[1:] + [ix] # crop and append\n",
    "\n",
    "    X = torch.tensor(X)\n",
    "    Y = torch.tensor(Y)\n",
    "    print(X.shape, Y.shape)\n",
    "    return X, Y\n",
    "\n",
    "import random\n",
    "random.seed(42)\n",
    "random.shuffle(words)\n",
    "n1 = int(0.8*len(words))\n",
    "n2 = int(0.9*len(words))\n",
    "\n",
    "Xtr, Ytr = build_dataset(words[:n1])\n",
    "Xdev, Ydev = build_dataset(words[n1:n2])\n",
    "Xte, Yte = build_dataset(words[n2:])"
   ]
  },
  {
   "cell_type": "code",
   "execution_count": 14,
   "id": "ba6ca558",
   "metadata": {},
   "outputs": [],
   "source": [
    "n_embed = 10\n",
    "n_hidden = 200\n",
    "g = torch.Generator().manual_seed(2147483647) # for reproducibility\n",
    "C = torch.randn((vocab_size, n_embed), generator=g)\n",
    "W1 = torch.randn((n_embed*block_size, n_hidden), generator=g)*(5/3)/((n_embed*block_size)**0.5) #kaiming init \n",
    "b1 = torch.randn(n_hidden, generator=g)*0.01 #ends of -1 to 1\n",
    "W2 = torch.randn((n_hidden, vocab_size), generator=g)*0.01#The model shouldnt be confident with the initial logits\n",
    "b2 = torch.randn(vocab_size, generator=g)*0#so that the loss wont be very much high\n",
    "\n",
    "#batch normalization\n",
    "bngain = torch.ones(1,n_hidden)\n",
    "bnbias = torch.zeros(1,n_hidden)\n",
    "\n",
    "bnmean_running = torch.ones(1,n_hidden)\n",
    "bnstd_running = torch.zeros(1,n_hidden)\n",
    "\n",
    "parameters = [C, W1, W2, b2, bngain, bnbias]"
   ]
  },
  {
   "cell_type": "code",
   "execution_count": 15,
   "id": "0fb81511",
   "metadata": {},
   "outputs": [
    {
     "data": {
      "text/plain": [
       "12097"
      ]
     },
     "execution_count": 15,
     "metadata": {},
     "output_type": "execute_result"
    }
   ],
   "source": [
    "sum(p.nelement() for p in parameters) # number of parameters in total"
   ]
  },
  {
   "cell_type": "code",
   "execution_count": 17,
   "id": "731b24ad",
   "metadata": {},
   "outputs": [],
   "source": [
    "for p in parameters:\n",
    "    p.requires_grad = True"
   ]
  },
  {
   "cell_type": "code",
   "execution_count": 18,
   "id": "c629f7b5",
   "metadata": {},
   "outputs": [],
   "source": [
    "lre = torch.linspace(-3, 0, 1000)\n",
    "lrs = 10**lre"
   ]
  },
  {
   "cell_type": "code",
   "execution_count": 19,
   "id": "841c3619",
   "metadata": {},
   "outputs": [],
   "source": [
    "lri = []\n",
    "lossi = []\n",
    "stepi = []\n",
    "batch_size = 32"
   ]
  },
  {
   "cell_type": "code",
   "execution_count": 21,
   "id": "67c83219",
   "metadata": {},
   "outputs": [
    {
     "name": "stdout",
     "output_type": "stream",
     "text": [
      "epoch=0\t loss=2.304271936416626\n",
      "epoch=10000\t loss=2.215583324432373\n",
      "epoch=20000\t loss=2.213876962661743\n",
      "epoch=30000\t loss=1.925599455833435\n",
      "epoch=40000\t loss=2.3368396759033203\n",
      "epoch=50000\t loss=2.0346734523773193\n",
      "epoch=60000\t loss=2.194125175476074\n",
      "epoch=70000\t loss=2.2621243000030518\n",
      "epoch=80000\t loss=1.8364462852478027\n",
      "epoch=90000\t loss=2.285510540008545\n",
      "epoch=100000\t loss=2.1464505195617676\n",
      "epoch=110000\t loss=2.067140579223633\n",
      "epoch=120000\t loss=2.01937198638916\n",
      "epoch=130000\t loss=2.2582883834838867\n",
      "epoch=140000\t loss=2.3968193531036377\n",
      "epoch=150000\t loss=2.2292327880859375\n",
      "epoch=160000\t loss=2.555699110031128\n",
      "epoch=170000\t loss=1.818813443183899\n",
      "epoch=180000\t loss=1.8490068912506104\n",
      "epoch=190000\t loss=2.2949962615966797\n"
     ]
    }
   ],
   "source": [
    "for i in range(200000):\n",
    "  \n",
    "    # minibatch construct\n",
    "    ix = torch.randint(0, Xtr.shape[0], (batch_size,))\n",
    "\n",
    "    # forward pass\n",
    "    emb = C[Xtr[ix]] # (32, 3, 2)\n",
    "    hpreact = emb.view(emb.shape[0],-1) @ W1 #+ b1 // not needed as it'll be subtracted by mean anyway-->replaced by bnmean\n",
    "    meani = hpreact.mean(0, keepdim = True)\n",
    "    stdi = hpreact.std(0, keepdim = True)\n",
    "    hpreact = bngain * (hpreact - meani) / stdi + bnbias\n",
    "    with torch.no_grad():\n",
    "        bnmean_running = 0.999 * bnmean_running + 0.001 * meani\n",
    "        bnstd_running = 0.999 * bnstd_running + 0.001 * stdi\n",
    "    h = torch.tanh(hpreact) # (32, 100)\n",
    "    logits = h @ W2 + b2 # (32, 27)\n",
    "    loss = F.cross_entropy(logits, Ytr[ix])\n",
    "    #print(loss.item())\n",
    "\n",
    "    # backward pass\n",
    "    for p in parameters:\n",
    "        p.grad = None\n",
    "    loss.backward()\n",
    "\n",
    "    # update\n",
    "    #lr = lrs[i]\n",
    "    lr = 0.1 if i < 100000 else 0.01\n",
    "    for p in parameters:\n",
    "        p.data += -lr * p.grad\n",
    "\n",
    "    # track stats\n",
    "    #lri.append(lre[i])\n",
    "    stepi.append(i)\n",
    "    lossi.append(loss.log10().item())\n",
    "    if i%10000==0:\n",
    "        print(f'epoch={i}\\t loss={loss.item()}')\n",
    "\n",
    "#print(loss.item())"
   ]
  },
  {
   "cell_type": "code",
   "execution_count": 81,
   "id": "24c8fd3d",
   "metadata": {},
   "outputs": [
    {
     "data": {
      "text/plain": [
       "[<matplotlib.lines.Line2D at 0x15a18c72e90>]"
      ]
     },
     "execution_count": 81,
     "metadata": {},
     "output_type": "execute_result"
    },
    {
     "data": {
      "image/png": "[encoded data removed]",
      "text/plain": [
       "<Figure size 640x480 with 1 Axes>"
      ]
     },
     "metadata": {},
     "output_type": "display_data"
    }
   ],
   "source": [
    "plt.plot(stepi, lossi)"
   ]
  },
  {
   "cell_type": "code",
   "execution_count": 22,
   "id": "068c49e0",
   "metadata": {},
   "outputs": [],
   "source": [
    "@torch.no_grad()#it disables gradient tracking\n",
    "def split_loss(split):\n",
    "    x,y = {\n",
    "        'train':(Xtr,Ytr),\n",
    "        'val':(Xdev,Ydev),\n",
    "        'test':(Xte,Yte),\n",
    "    }[split]\n",
    "    emb = C[x] #C->looks like (vocab x emblen), x->looks like (examples x block)\n",
    "    #so emb looks like (examples x block x emblen)\n",
    "    embcat = emb.view(emb.shape[0],-1) #examples x (block*emblen)\n",
    "    hpreact = embcat@W1+b1\n",
    "    #hpreact = bngain * (hpreact-hpreact.mean(0,keepdim=True)) / hpreact.std(0,keepdim=True)+bnbias\n",
    "#     THis need not be used as if we have one example to predict we wudnt be able to find mean/std dev. The other way around is..\n",
    "    hpreact = bngain * (hpreact-bnmean_running) / bnstd_running + bnbias\n",
    "    h = torch.tanh(hpreact)\n",
    "    logits = h@W2+b2\n",
    "    loss = F.cross_entropy(logits, y)\n",
    "    print(split, loss.item())"
   ]
  },
  {
   "cell_type": "code",
   "execution_count": 23,
   "id": "8975a26e",
   "metadata": {},
   "outputs": [
    {
     "name": "stdout",
     "output_type": "stream",
     "text": [
      "train 2.066185712814331\n"
     ]
    }
   ],
   "source": [
    "split_loss('train')"
   ]
  },
  {
   "cell_type": "code",
   "execution_count": 24,
   "id": "ee7807e1",
   "metadata": {},
   "outputs": [
    {
     "name": "stdout",
     "output_type": "stream",
     "text": [
      "val 2.1084659099578857\n"
     ]
    }
   ],
   "source": [
    "split_loss('val')"
   ]
  },
  {
   "cell_type": "code",
   "execution_count": 85,
   "id": "efa42d83",
   "metadata": {},
   "outputs": [
    {
     "name": "stdout",
     "output_type": "stream",
     "text": [
      "test 2.108330249786377\n"
     ]
    }
   ],
   "source": [
    "split_loss('test')"
   ]
  },
  {
   "cell_type": "code",
   "execution_count": 58,
   "id": "82a59569",
   "metadata": {},
   "outputs": [
    {
     "data": {
      "image/png": "[encoded data removed]",
      "text/plain": [
       "<Figure size 800x800 with 1 Axes>"
      ]
     },
     "metadata": {},
     "output_type": "display_data"
    }
   ],
   "source": [
    "# visualize dimensions 0 and 1 of the embedding matrix C for all characters\n",
    "plt.figure(figsize=(8,8))\n",
    "plt.scatter(C[:,0].data, C[:,1].data, s=200)\n",
    "for i in range(C.shape[0]):\n",
    "    plt.text(C[i,0].item(), C[i,1].item(), itos[i], ha=\"center\", va=\"center\", color='white')\n",
    "plt.grid('minor')"
   ]
  },
  {
   "cell_type": "code",
   "execution_count": 59,
   "id": "92b3b68f",
   "metadata": {},
   "outputs": [
    {
     "name": "stdout",
     "output_type": "stream",
     "text": [
      "montaymyah.\n",
      "seel.\n",
      "ndhayla.\n",
      "rensleigh.\n",
      "raegan.\n",
      "eled.\n",
      "elin.\n",
      "shi.\n",
      "jen.\n",
      "eden.\n",
      "edo.\n",
      "aarielle.\n",
      "malka.\n",
      "cayshab.\n",
      "ridhiriel.\n",
      "kinde.\n",
      "jeniquetzulan.\n",
      "brence.\n",
      "ryyah.\n",
      "fael.\n"
     ]
    }
   ],
   "source": [
    "# sample from the model\n",
    "g = torch.Generator().manual_seed(2147483647 + 10)\n",
    "\n",
    "for _ in range(20):\n",
    "    \n",
    "    out = []\n",
    "    context = [0] * block_size # initialize with all ...\n",
    "    while True:\n",
    "        emb = C[torch.tensor([context])] # (1,block_size,d)\n",
    "        h = torch.tanh(emb.view(1, -1) @ W1 + b1)\n",
    "        logits = h @ W2 + b2\n",
    "        probs = F.softmax(logits, dim=1)\n",
    "        ix = torch.multinomial(probs, num_samples=1, generator=g).item()\n",
    "        context = context[1:] + [ix]\n",
    "        out.append(ix)\n",
    "        if ix == 0:\n",
    "            break\n",
    "\n",
    "    print(''.join(itos[i] for i in out))"
   ]
  },
  {
   "cell_type": "code",
   "execution_count": null,
   "id": "56ffde83",
   "metadata": {},
   "outputs": [],
   "source": []
  }
 ],
 "metadata": {
  "kernelspec": {
   "display_name": "CUDA",
   "language": "python",
   "name": "cuda"
  },
  "language_info": {
   "codemirror_mode": {
    "name": "ipython",
    "version": 3
   },
   "file_extension": ".py",
   "mimetype": "text/x-python",
   "name": "python",
   "nbconvert_exporter": "python",
   "pygments_lexer": "ipython3",
   "version": "3.11.5"
  }
 },
 "nbformat": 4,
 "nbformat_minor": 5
}
