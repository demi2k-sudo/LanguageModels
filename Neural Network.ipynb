{
 "cells": [
  {
   "cell_type": "code",
   "execution_count": 1,
   "id": "de8b4f6e",
   "metadata": {},
   "outputs": [],
   "source": [
    "import math\n",
    "import numpy as np\n",
    "import matplotlib.pyplot as plt"
   ]
  },
  {
   "cell_type": "code",
   "execution_count": 2,
   "id": "2628440f",
   "metadata": {},
   "outputs": [],
   "source": [
    "def f(x):\n",
    "    return 3*x**2 - 4*x + 5"
   ]
  },
  {
   "cell_type": "code",
   "execution_count": 3,
   "id": "6397b8ec",
   "metadata": {},
   "outputs": [
    {
     "data": {
      "text/plain": [
       "20.0"
      ]
     },
     "execution_count": 3,
     "metadata": {},
     "output_type": "execute_result"
    }
   ],
   "source": [
    "f(3.0)"
   ]
  },
  {
   "cell_type": "code",
   "execution_count": 4,
   "id": "c3094c33",
   "metadata": {},
   "outputs": [
    {
     "data": {
      "text/plain": [
       "[<matplotlib.lines.Line2D at 0x25daba46f80>]"
      ]
     },
     "execution_count": 4,
     "metadata": {},
     "output_type": "execute_result"
    },
    {
     "data": {
      "image/png": "[encoded data removed]",
      "text/plain": [
       "<Figure size 640x480 with 1 Axes>"
      ]
     },
     "metadata": {},
     "output_type": "display_data"
    }
   ],
   "source": [
    "xs = np.arange(-5,5,0.25)\n",
    "ys = f(xs)\n",
    "plt.plot(xs,ys)"
   ]
  },
  {
   "cell_type": "code",
   "execution_count": 5,
   "id": "db415f05",
   "metadata": {},
   "outputs": [
    {
     "data": {
      "text/plain": [
       "14.00003000000538"
      ]
     },
     "execution_count": 5,
     "metadata": {},
     "output_type": "execute_result"
    }
   ],
   "source": [
    "h = 0.00001\n",
    "x = 3.0\n",
    "(f(x+h)-f(x))/h"
   ]
  },
  {
   "cell_type": "code",
   "execution_count": 6,
   "id": "8b867089",
   "metadata": {},
   "outputs": [
    {
     "data": {
      "text/plain": [
       "-9.999969999974212"
      ]
     },
     "execution_count": 6,
     "metadata": {},
     "output_type": "execute_result"
    }
   ],
   "source": [
    "h = 0.00001\n",
    "x = -1.0\n",
    "(f(x+h)-f(x))/h"
   ]
  },
  {
   "cell_type": "code",
   "execution_count": 7,
   "id": "e35677fd",
   "metadata": {},
   "outputs": [
    {
     "data": {
      "text/plain": [
       "0.0"
      ]
     },
     "execution_count": 7,
     "metadata": {},
     "output_type": "execute_result"
    }
   ],
   "source": [
    "h = 0.00000001\n",
    "x = 2/3\n",
    "(f(x+h)-f(x))/h #almost equal to zero"
   ]
  },
  {
   "cell_type": "code",
   "execution_count": 8,
   "id": "c5c6fa92",
   "metadata": {},
   "outputs": [
    {
     "name": "stdout",
     "output_type": "stream",
     "text": [
      "d1 : 4.0 \n",
      "d2 : 3.999699999999999\n",
      "Slope :  -3.000000000010772\n"
     ]
    }
   ],
   "source": [
    "h = 0.0001\n",
    "\n",
    "a = 2.0\n",
    "b = -3.0\n",
    "c =10.0\n",
    "\n",
    "d1 = a*b+c\n",
    "a+=h\n",
    "d2 = a*b+c\n",
    "print(\"d1 :\",d1,\"\\nd2 :\",d2)\n",
    "print(\"Slope : \",(d2-d1)/h)\n"
   ]
  },
  {
   "cell_type": "code",
   "execution_count": 9,
   "id": "691ad505",
   "metadata": {},
   "outputs": [
    {
     "name": "stdout",
     "output_type": "stream",
     "text": [
      "d1 : 4.0 \n",
      "d2 : 4.0002\n",
      "Slope :  2.0000000000042206\n"
     ]
    }
   ],
   "source": [
    "h = 0.0001\n",
    "\n",
    "a = 2.0\n",
    "b = -3.0\n",
    "c =10.0\n",
    "\n",
    "d1 = a*b+c\n",
    "b+=h\n",
    "d2 = a*b+c\n",
    "print(\"d1 :\",d1,\"\\nd2 :\",d2)\n",
    "print(\"Slope : \",(d2-d1)/h)\n"
   ]
  },
  {
   "cell_type": "code",
   "execution_count": 10,
   "id": "23f2e83e",
   "metadata": {},
   "outputs": [
    {
     "name": "stdout",
     "output_type": "stream",
     "text": [
      "d1 : 4.0 \n",
      "d2 : 4.0001\n",
      "Slope :  0.9999999999976694\n"
     ]
    }
   ],
   "source": [
    "h = 0.0001\n",
    "\n",
    "a = 2.0\n",
    "b = -3.0\n",
    "c =10.0\n",
    "\n",
    "d1 = a*b+c\n",
    "c+=h\n",
    "d2 = a*b+c\n",
    "print(\"d1 :\",d1,\"\\nd2 :\",d2)\n",
    "print(\"Slope : \",(d2-d1)/h)\n"
   ]
  },
  {
   "cell_type": "code",
   "execution_count": 11,
   "id": "0330d981",
   "metadata": {
    "scrolled": true
   },
   "outputs": [],
   "source": [
    "class Value:\n",
    "    \n",
    "    def __init__(self,data,_children=(),_op=''):\n",
    "        self.grad = 0.0\n",
    "        self.data = data\n",
    "        self._backward = lambda : None\n",
    "        self._prev = set(_children)\n",
    "        self._op = _op\n",
    "    \n",
    "    def __repr__(self):\n",
    "        return f\"Value(data={self.data})\"\n",
    "    \n",
    "    def __add__(self,other):\n",
    "        out = Value(self.data+other.data,(self,other),'+')\n",
    "        def _backward():\n",
    "            self.grad += 1*out.grad\n",
    "            other.grad += 1*out.grad\n",
    "        out._backward = _backward\n",
    "        return out\n",
    "    \n",
    "    def __mul__(self,other):\n",
    "        out = Value(self.data*other.data,(self,other),'*')\n",
    "        def _backward():\n",
    "            self.grad += other.data * out.grad\n",
    "            other.grad += self.data*out.grad\n",
    "        out._backward = _backward\n",
    "        return out\n",
    "    def tanh(self):\n",
    "        x = self.data\n",
    "        t = (math.exp(2*x)-1)/(math.exp(2*x)+1)\n",
    "        out = Value(t,(self,),'tanh')\n",
    "        def _backward():\n",
    "            self.grad += (1 - t**2)*out.grad\n",
    "        out._backward = _backward\n",
    "        return out\n",
    "    def backward(self):\n",
    "        topo = []\n",
    "        visited = set()\n",
    "        def build_topo(v):\n",
    "            if v not in visited:\n",
    "                for child in v._prev:\n",
    "                    build_topo(child)\n",
    "                topo.append(v)\n",
    "        build_topo(self)\n",
    "        \n",
    "        self.grad = 1.0\n",
    "        for node in reversed(topo):\n",
    "            node._backward()\n",
    "\n"
   ]
  },
  {
   "cell_type": "code",
   "execution_count": 12,
   "id": "ff7a774c",
   "metadata": {},
   "outputs": [],
   "source": [
    "a = Value(2.0)\n",
    "b = Value(-3.0)\n",
    "c = Value(10)\n",
    "e = a*b\n",
    "d = e+c\n",
    "f = Value(-2.0)\n",
    "l = d+f"
   ]
  },
  {
   "cell_type": "code",
   "execution_count": null,
   "id": "5b0629ab",
   "metadata": {},
   "outputs": [],
   "source": []
  },
  {
   "cell_type": "code",
   "execution_count": 13,
   "id": "7c4ac29d",
   "metadata": {},
   "outputs": [],
   "source": [
    "l.grad = 1.0"
   ]
  },
  {
   "cell_type": "code",
   "execution_count": 14,
   "id": "02a6ca88",
   "metadata": {},
   "outputs": [],
   "source": [
    "def lol():\n",
    "    h=0.001\n",
    "    \n",
    "    a = Value(2.0)\n",
    "    b = Value(-3.0)\n",
    "    c = Value(10.0)\n",
    "    e = a*b\n",
    "    d = e+c\n",
    "    f = Value(-2.0)\n",
    "    l = d*f\n",
    "    l1 = l.data\n",
    "    \n",
    "    a = Value(2.0)\n",
    "    b = Value(-3.0)\n",
    "    c = Value(10.0)\n",
    "    e = a*b\n",
    "    d = e+c\n",
    "    f = Value(-2.0)\n",
    "    l = d*f\n",
    "    l2=l.data+h\n",
    "    \n",
    "    print((l2-l1)/h)"
   ]
  },
  {
   "cell_type": "code",
   "execution_count": 15,
   "id": "bee1de98",
   "metadata": {},
   "outputs": [
    {
     "name": "stdout",
     "output_type": "stream",
     "text": [
      "1.000000000000334\n"
     ]
    }
   ],
   "source": [
    "lol()"
   ]
  },
  {
   "cell_type": "code",
   "execution_count": 16,
   "id": "e052df2b",
   "metadata": {},
   "outputs": [],
   "source": [
    "def lol():\n",
    "    h=0.001\n",
    "    \n",
    "    a = Value(2.0)\n",
    "    b = Value(-3.0)\n",
    "    c = Value(10.0)\n",
    "    e = a*b\n",
    "    d = e+c\n",
    "    f = Value(-2.0)\n",
    "    l = d*f\n",
    "    l1 = l.data\n",
    "    \n",
    "    a = Value(2.0)\n",
    "    b = Value(-3.0)\n",
    "    c = Value(10.0)\n",
    "    e = a*b\n",
    "    d = e+c\n",
    "    f = Value(-2.0+h)\n",
    "    l = d*f\n",
    "    l2=l.data\n",
    "    \n",
    "    print((l2-l1)/h)"
   ]
  },
  {
   "cell_type": "code",
   "execution_count": 17,
   "id": "9824bf7d",
   "metadata": {},
   "outputs": [
    {
     "name": "stdout",
     "output_type": "stream",
     "text": [
      "3.9999999999995595\n"
     ]
    }
   ],
   "source": [
    "#L = f*d >> dL/df = d >> f = -2 >> d = 4 >> dL/df =4\n",
    "lol()"
   ]
  },
  {
   "cell_type": "code",
   "execution_count": 18,
   "id": "48c2e8ed",
   "metadata": {},
   "outputs": [],
   "source": [
    "def lol():\n",
    "    h=0.001\n",
    "    \n",
    "    a = Value(2.0)\n",
    "    b = Value(-3.0)\n",
    "    c = Value(10.0)\n",
    "    e = a*b\n",
    "    d = e+c\n",
    "    f = Value(-2.0)\n",
    "    l = d*f\n",
    "    l1 = l.data\n",
    "    \n",
    "    a = Value(2.0)\n",
    "    b = Value(-3.0)\n",
    "    c = Value(10.0)\n",
    "    e = a*b\n",
    "    d = e+c\n",
    "    d.data+=h\n",
    "    f = Value(-2.0)\n",
    "    l = d*f\n",
    "    l2=l.data\n",
    "    \n",
    "    print((l2-l1)/h)"
   ]
  },
  {
   "cell_type": "code",
   "execution_count": 19,
   "id": "b0debb6c",
   "metadata": {},
   "outputs": [
    {
     "name": "stdout",
     "output_type": "stream",
     "text": [
      "-2.000000000000668\n"
     ]
    }
   ],
   "source": [
    "#L = f*d >> dL/dd = f >> f = -2 >> d = 4 >> dL/dd =-2\n",
    "lol()"
   ]
  },
  {
   "cell_type": "code",
   "execution_count": 20,
   "id": "4441c9a3",
   "metadata": {},
   "outputs": [],
   "source": [
    "x1 = Value(2.0)\n",
    "x2 = Value(0.0)\n",
    "w1 = Value(-3.0)\n",
    "w2 = Value(1.0)\n",
    "b = Value(6.8813735878195432)\n",
    "x1w1 = x1*w1\n",
    "x2w2 = x2*w2\n",
    "x1w1x2w2 = x1w1+x2w2\n",
    "n = x1w1x2w2 + b\n",
    "o = n.tanh()"
   ]
  },
  {
   "cell_type": "code",
   "execution_count": 21,
   "id": "bfd87605",
   "metadata": {},
   "outputs": [],
   "source": [
    "o.grad = 1"
   ]
  },
  {
   "cell_type": "code",
   "execution_count": 22,
   "id": "203f2c66",
   "metadata": {},
   "outputs": [],
   "source": [
    "o._backward()"
   ]
  },
  {
   "cell_type": "code",
   "execution_count": 23,
   "id": "80f0f681",
   "metadata": {},
   "outputs": [
    {
     "data": {
      "text/plain": [
       "0.4999999994343145"
      ]
     },
     "execution_count": 23,
     "metadata": {},
     "output_type": "execute_result"
    }
   ],
   "source": [
    "n.grad"
   ]
  },
  {
   "cell_type": "code",
   "execution_count": 24,
   "id": "614442d1",
   "metadata": {},
   "outputs": [],
   "source": [
    "n._backward()"
   ]
  },
  {
   "cell_type": "code",
   "execution_count": 25,
   "id": "ae045286",
   "metadata": {},
   "outputs": [
    {
     "data": {
      "text/plain": [
       "0.4999999994343145"
      ]
     },
     "execution_count": 25,
     "metadata": {},
     "output_type": "execute_result"
    }
   ],
   "source": [
    "b.grad"
   ]
  },
  {
   "cell_type": "code",
   "execution_count": 26,
   "id": "c9a09935",
   "metadata": {},
   "outputs": [
    {
     "data": {
      "text/plain": [
       "0.4999999994343145"
      ]
     },
     "execution_count": 26,
     "metadata": {},
     "output_type": "execute_result"
    }
   ],
   "source": [
    "x1w1x2w2.grad"
   ]
  },
  {
   "cell_type": "code",
   "execution_count": 27,
   "id": "5f2e091a",
   "metadata": {},
   "outputs": [],
   "source": [
    "b._backward()"
   ]
  },
  {
   "cell_type": "code",
   "execution_count": 28,
   "id": "85ae3db8",
   "metadata": {},
   "outputs": [],
   "source": [
    "x1w1x2w2._backward()"
   ]
  },
  {
   "cell_type": "code",
   "execution_count": 29,
   "id": "ef913e1e",
   "metadata": {},
   "outputs": [
    {
     "data": {
      "text/plain": [
       "0.4999999994343145"
      ]
     },
     "execution_count": 29,
     "metadata": {},
     "output_type": "execute_result"
    }
   ],
   "source": [
    "x1w1.grad"
   ]
  },
  {
   "cell_type": "code",
   "execution_count": 30,
   "id": "46d422db",
   "metadata": {},
   "outputs": [
    {
     "data": {
      "text/plain": [
       "0.4999999994343145"
      ]
     },
     "execution_count": 30,
     "metadata": {},
     "output_type": "execute_result"
    }
   ],
   "source": [
    "x2w2.grad"
   ]
  },
  {
   "cell_type": "code",
   "execution_count": 31,
   "id": "7921009a",
   "metadata": {},
   "outputs": [],
   "source": [
    "x1w1._backward()\n",
    "x2w2._backward()"
   ]
  },
  {
   "cell_type": "code",
   "execution_count": 32,
   "id": "28bf7f9c",
   "metadata": {},
   "outputs": [
    {
     "data": {
      "text/plain": [
       "-1.4999999983029435"
      ]
     },
     "execution_count": 32,
     "metadata": {},
     "output_type": "execute_result"
    }
   ],
   "source": [
    "x1.grad"
   ]
  },
  {
   "cell_type": "code",
   "execution_count": 33,
   "id": "8c985750",
   "metadata": {},
   "outputs": [
    {
     "data": {
      "text/plain": [
       "0.999999998868629"
      ]
     },
     "execution_count": 33,
     "metadata": {},
     "output_type": "execute_result"
    }
   ],
   "source": [
    "w1.grad"
   ]
  },
  {
   "cell_type": "code",
   "execution_count": 34,
   "id": "272b0f9b",
   "metadata": {},
   "outputs": [
    {
     "data": {
      "text/plain": [
       "0.4999999994343145"
      ]
     },
     "execution_count": 34,
     "metadata": {},
     "output_type": "execute_result"
    }
   ],
   "source": [
    "x2.grad"
   ]
  },
  {
   "cell_type": "code",
   "execution_count": 35,
   "id": "512b71de",
   "metadata": {},
   "outputs": [
    {
     "data": {
      "text/plain": [
       "0.0"
      ]
     },
     "execution_count": 35,
     "metadata": {},
     "output_type": "execute_result"
    }
   ],
   "source": [
    "w2.grad"
   ]
  },
  {
   "cell_type": "code",
   "execution_count": 36,
   "id": "9a987b3b",
   "metadata": {},
   "outputs": [],
   "source": [
    "x1 = Value(2.0)\n",
    "x2 = Value(0.0)\n",
    "w1 = Value(-3.0)\n",
    "w2 = Value(1.0)\n",
    "b = Value(6.8813735878195432)\n",
    "x1w1 = x1*w1\n",
    "x2w2 = x2*w2\n",
    "x1w1x2w2 = x1w1+x2w2\n",
    "n = x1w1x2w2 + b\n",
    "o = n.tanh()"
   ]
  },
  {
   "cell_type": "code",
   "execution_count": 37,
   "id": "d1f01f1b",
   "metadata": {},
   "outputs": [],
   "source": [
    "o.grad = 1.0"
   ]
  },
  {
   "cell_type": "code",
   "execution_count": 38,
   "id": "34f3d1f1",
   "metadata": {},
   "outputs": [
    {
     "data": {
      "text/plain": [
       "[Value(data=1.0),\n",
       " Value(data=0.0),\n",
       " Value(data=0.0),\n",
       " Value(data=-3.0),\n",
       " Value(data=2.0),\n",
       " Value(data=-6.0),\n",
       " Value(data=-6.0),\n",
       " Value(data=6.881373587819543),\n",
       " Value(data=0.8813735878195432),\n",
       " Value(data=0.7071067815865476)]"
      ]
     },
     "execution_count": 38,
     "metadata": {},
     "output_type": "execute_result"
    }
   ],
   "source": [
    "topo = []\n",
    "visited = set()\n",
    "def build_topo(v):\n",
    "    if v not in visited:\n",
    "        for child in v._prev:\n",
    "            build_topo(child)\n",
    "        topo.append(v)\n",
    "build_topo(o)\n",
    "topo"
   ]
  },
  {
   "cell_type": "code",
   "execution_count": 39,
   "id": "af9a0f29",
   "metadata": {},
   "outputs": [],
   "source": [
    "for node in reversed(topo):\n",
    "    node._backward()"
   ]
  },
  {
   "cell_type": "code",
   "execution_count": 40,
   "id": "2617b9ad",
   "metadata": {},
   "outputs": [
    {
     "name": "stdout",
     "output_type": "stream",
     "text": [
      "-1.4999999983029435\n",
      "0.999999998868629\n",
      "0.4999999994343145\n",
      "0.0\n"
     ]
    }
   ],
   "source": [
    "print(x1.grad)\n",
    "\n",
    "print(w1.grad)\n",
    "\n",
    "print(x2.grad)\n",
    "\n",
    "print(w2.grad)"
   ]
  },
  {
   "cell_type": "code",
   "execution_count": 41,
   "id": "6f192ab5",
   "metadata": {},
   "outputs": [],
   "source": [
    "x1 = Value(2.0)\n",
    "x2 = Value(0.0)\n",
    "w1 = Value(-3.0)\n",
    "w2 = Value(1.0)\n",
    "b = Value(6.8813735878195432)\n",
    "x1w1 = x1*w1\n",
    "x2w2 = x2*w2\n",
    "x1w1x2w2 = x1w1+x2w2\n",
    "n = x1w1x2w2 + b\n",
    "o = n.tanh()"
   ]
  },
  {
   "cell_type": "code",
   "execution_count": 42,
   "id": "17cc98fb",
   "metadata": {},
   "outputs": [],
   "source": [
    "o.backward()"
   ]
  },
  {
   "cell_type": "code",
   "execution_count": 43,
   "id": "974a6854",
   "metadata": {},
   "outputs": [
    {
     "name": "stdout",
     "output_type": "stream",
     "text": [
      "-1.4999999983029435\n",
      "0.999999998868629\n",
      "0.4999999994343145\n",
      "0.0\n"
     ]
    }
   ],
   "source": [
    "print(x1.grad)\n",
    "\n",
    "print(w1.grad)\n",
    "\n",
    "print(x2.grad)\n",
    "\n",
    "print(w2.grad)"
   ]
  },
  {
   "cell_type": "code",
   "execution_count": 44,
   "id": "b09b09cd",
   "metadata": {},
   "outputs": [
    {
     "name": "stdout",
     "output_type": "stream",
     "text": [
      "2.0     1.0\n"
     ]
    }
   ],
   "source": [
    "#accumulate the gradients to avoid overwriting of the gradients when a variable\n",
    "#is used more than once\n",
    "a = Value(3.0)\n",
    "b = a+a\n",
    "b.backward()\n",
    "print(a.grad,'   ',b.grad)"
   ]
  },
  {
   "cell_type": "code",
   "execution_count": 45,
   "id": "9153ffe8",
   "metadata": {},
   "outputs": [],
   "source": [
    "#Now breaking down Tanh into exponential functions"
   ]
  },
  {
   "cell_type": "code",
   "execution_count": 46,
   "id": "c9ca639d",
   "metadata": {},
   "outputs": [],
   "source": [
    "class Value:\n",
    "    \n",
    "    def __init__(self,data,_children=(),_op=''):\n",
    "        self.grad = 0.0\n",
    "        self.data = data\n",
    "        self._backward = lambda : None\n",
    "        self._prev = set(_children)\n",
    "        self._op = _op\n",
    "    \n",
    "    def __repr__(self):\n",
    "        return f\"Value(data={self.data})\"\n",
    "    \n",
    "    def __add__(self,other):\n",
    "        other = other if isinstance(other,Value) else Value(other)\n",
    "        out = Value(self.data+other.data,(self,other),'+')\n",
    "        def _backward():\n",
    "            self.grad += 1*out.grad\n",
    "            other.grad += 1*out.grad\n",
    "        out._backward = _backward\n",
    "        return out\n",
    "    \n",
    "    def __mul__(self,other):\n",
    "        other = other if isinstance(other,Value) else Value(other)\n",
    "        out = Value(self.data*other.data,(self,other),'*')\n",
    "        \n",
    "        def _backward():\n",
    "            self.grad += other.data * out.grad\n",
    "            other.grad += self.data*out.grad\n",
    "        out._backward = _backward\n",
    "        return out\n",
    "    \n",
    "    def __pow__(self,other):\n",
    "        assert isinstance(other,(int,float)),\"only supports int/float\"\n",
    "        out = Value(self.data**other,(self,))\n",
    "        \n",
    "        def _backward():\n",
    "            self.grad += other*(self.data**(other-1)) * out.grad\n",
    "        out._backward = _backward\n",
    "        return out\n",
    "    \n",
    "    def __rmul__(self,other):\n",
    "        return self*other\n",
    "    \n",
    "    def __truediv__(self,other):\n",
    "        return self * other**-1\n",
    "    \n",
    "    def __neg__(self):\n",
    "        return self*-1\n",
    "    \n",
    "    def __sub__(self, other):\n",
    "        return self + (-other)\n",
    "    \n",
    "    def tanh(self):\n",
    "        x = self.data\n",
    "        t = (math.exp(2*x)-1)/(math.exp(2*x)+1)\n",
    "        out = Value(t,(self,),'tanh')\n",
    "        def _backward():\n",
    "            self.grad += (1 - t**2)*out.grad\n",
    "        out._backward = _backward\n",
    "        return out\n",
    "    \n",
    "    def exp(self):\n",
    "        x = self.data\n",
    "        out = Value(math.exp(x), (self,))\n",
    "        \n",
    "        def _backward():\n",
    "            self.grad += out.data*out.grad \n",
    "        out._backward = _backward\n",
    "        return out\n",
    "    \n",
    "    def backward(self):\n",
    "        topo = []\n",
    "        visited = set()\n",
    "        def build_topo(v):\n",
    "            if v not in visited:\n",
    "                for child in v._prev:\n",
    "                    build_topo(child)\n",
    "                topo.append(v)\n",
    "        build_topo(self)\n",
    "        \n",
    "        self.grad = 1.0\n",
    "        for node in reversed(topo):\n",
    "            node._backward()"
   ]
  },
  {
   "cell_type": "code",
   "execution_count": 47,
   "id": "e7104960",
   "metadata": {},
   "outputs": [
    {
     "data": {
      "text/plain": [
       "Value(data=3.0)"
      ]
     },
     "execution_count": 47,
     "metadata": {},
     "output_type": "execute_result"
    }
   ],
   "source": [
    "a = Value(2.0)\n",
    "a+=1\n",
    "a"
   ]
  },
  {
   "cell_type": "code",
   "execution_count": 48,
   "id": "70f08cf4",
   "metadata": {},
   "outputs": [
    {
     "data": {
      "text/plain": [
       "Value(data=6.0)"
      ]
     },
     "execution_count": 48,
     "metadata": {},
     "output_type": "execute_result"
    }
   ],
   "source": [
    "2*a"
   ]
  },
  {
   "cell_type": "code",
   "execution_count": 49,
   "id": "1440e567",
   "metadata": {},
   "outputs": [
    {
     "data": {
      "text/plain": [
       "Value(data=7.38905609893065)"
      ]
     },
     "execution_count": 49,
     "metadata": {},
     "output_type": "execute_result"
    }
   ],
   "source": [
    "a+=-1\n",
    "a.exp()"
   ]
  },
  {
   "cell_type": "code",
   "execution_count": 50,
   "id": "89dc012a",
   "metadata": {},
   "outputs": [
    {
     "data": {
      "text/plain": [
       "Value(data=0.5)"
      ]
     },
     "execution_count": 50,
     "metadata": {},
     "output_type": "execute_result"
    }
   ],
   "source": [
    "a = Value(2.0)\n",
    "b = Value(4.0)\n",
    "a/b"
   ]
  },
  {
   "cell_type": "code",
   "execution_count": 51,
   "id": "c1f77af4",
   "metadata": {},
   "outputs": [
    {
     "data": {
      "text/plain": [
       "Value(data=-2.0)"
      ]
     },
     "execution_count": 51,
     "metadata": {},
     "output_type": "execute_result"
    }
   ],
   "source": [
    "a-b"
   ]
  },
  {
   "cell_type": "code",
   "execution_count": 52,
   "id": "15a58972",
   "metadata": {},
   "outputs": [],
   "source": [
    "x1 = Value(2.0)\n",
    "x2 = Value(0.0)\n",
    "w1 = Value(-3.0)\n",
    "w2 = Value(1.0)\n",
    "y = Value(6.8813735878195432)\n",
    "x1w1 = x1*w1\n",
    "x2w2 = x2*w2\n",
    "x1w1x2w2 = x1w1+x2w2\n",
    "n = x1w1x2w2 + y\n",
    "e = (2*n).exp()\n",
    "o = (e-1)/(e+1)\n",
    "o.backward()"
   ]
  },
  {
   "cell_type": "code",
   "execution_count": 53,
   "id": "e0f8e2b2",
   "metadata": {},
   "outputs": [],
   "source": [
    "import torch"
   ]
  },
  {
   "cell_type": "code",
   "execution_count": 54,
   "id": "1cdc8451",
   "metadata": {},
   "outputs": [
    {
     "name": "stdout",
     "output_type": "stream",
     "text": [
      "0.7071066904050358\n"
     ]
    }
   ],
   "source": [
    "x1 = torch.Tensor([2.0]).double()\n",
    "x1.requires_grad = True\n",
    "x2 = torch.Tensor([0.0]).double()\n",
    "x2.requires_grad = True\n",
    "w1 = torch.Tensor([-3.0]).double()\n",
    "w1.requires_grad = True\n",
    "w2 = torch.Tensor([1.0]).double()\n",
    "w2.requires_grad = True\n",
    "b = torch.Tensor([6.8813735878195432]).double()\n",
    "b.requires_grad = True\n",
    "n = x1*w1 + x2*w2 + b\n",
    "o = torch.tanh(n)\n",
    "\n",
    "print(o.data.item())\n",
    "o.backward()"
   ]
  },
  {
   "cell_type": "code",
   "execution_count": 55,
   "id": "4c0d4da9",
   "metadata": {},
   "outputs": [
    {
     "name": "stdout",
     "output_type": "stream",
     "text": [
      "-1.5000003851533106\n",
      "1.0000002567688737\n",
      "0.5000001283844369\n",
      "0.0\n"
     ]
    }
   ],
   "source": [
    "print(x1.grad.item())\n",
    "\n",
    "print(w1.grad.item())\n",
    "\n",
    "print(x2.grad.item())\n",
    "\n",
    "print(w2.grad.item())"
   ]
  },
  {
   "cell_type": "code",
   "execution_count": 56,
   "id": "70d28caa",
   "metadata": {},
   "outputs": [
    {
     "data": {
      "text/plain": [
       "tensor([0.7071], dtype=torch.float64)"
      ]
     },
     "execution_count": 56,
     "metadata": {},
     "output_type": "execute_result"
    }
   ],
   "source": [
    "o.data"
   ]
  },
  {
   "cell_type": "code",
   "execution_count": 57,
   "id": "270b025e",
   "metadata": {},
   "outputs": [],
   "source": [
    "import random"
   ]
  },
  {
   "cell_type": "code",
   "execution_count": 101,
   "id": "ad8f965f",
   "metadata": {},
   "outputs": [],
   "source": [
    "class Neuron:\n",
    "    def __init__(self,nin):\n",
    "        self.w = [Value(random.uniform(-1,1)) for _ in range(nin)]\n",
    "        self.b = Value(random.uniform(-1,1))\n",
    "    \n",
    "    def __call__(self,x):\n",
    "        act = Value(0.0)\n",
    "        for wi,xi in zip(self.w,x):\n",
    "            act+=(wi*xi)\n",
    "        act+=self.b\n",
    "        out = act.tanh()\n",
    "        return out\n",
    "    \n",
    "    def parameters(self):\n",
    "        return self.w+[self.b]\n",
    "    \n",
    "\n",
    "class Layer:\n",
    "    def __init__(self,nin,nout):\n",
    "        self.neurons = [Neuron(nin) for _ in range(nout)]\n",
    "        \n",
    "    def __call__(self,x):\n",
    "        outs = [n(x) for n in self.neurons]\n",
    "        return outs[0] if len(outs)==1 else outs\n",
    "    \n",
    "    def parameters(self):\n",
    "        return [p for neuron in self.neurons for p in neuron.parameters()]\n",
    "    \n",
    "class MLP:\n",
    "    \n",
    "    def __init__(self, nin, nouts):\n",
    "        sz = [nin]+nouts\n",
    "        self.layers = [Layer(sz[i],sz[i+1])for i in range(len(nouts))]\n",
    "        \n",
    "    def __call__(self,x):\n",
    "        for layer in self.layers:\n",
    "            x = layer(x)\n",
    "        return x\n",
    "    \n",
    "    def parameters(self):\n",
    "        return [p for layer in self.layers for p in layer.parameters()]\n",
    "        \n",
    "\n",
    "\n",
    "\n",
    "        "
   ]
  },
  {
   "cell_type": "code",
   "execution_count": 124,
   "id": "beee86e7",
   "metadata": {},
   "outputs": [
    {
     "data": {
      "text/plain": [
       "Value(data=-0.8107828182740048)"
      ]
     },
     "execution_count": 124,
     "metadata": {},
     "output_type": "execute_result"
    }
   ],
   "source": [
    "x = [2.0,3.0,-1.0]\n",
    "n = MLP(3,[4,4,1])\n",
    "n(x)"
   ]
  },
  {
   "cell_type": "code",
   "execution_count": 125,
   "id": "0000aea0",
   "metadata": {},
   "outputs": [
    {
     "data": {
      "text/plain": [
       "[Value(data=-0.48804995534580975),\n",
       " Value(data=-0.056780572180279654),\n",
       " Value(data=0.7645023235968118),\n",
       " Value(data=0.004607876273802214),\n",
       " Value(data=0.1641941172698138),\n",
       " Value(data=-0.14091615191221307),\n",
       " Value(data=0.9231599963691826),\n",
       " Value(data=0.8144941023848447),\n",
       " Value(data=0.802448602768091),\n",
       " Value(data=-0.5369437301512077),\n",
       " Value(data=-0.8548298070319145),\n",
       " Value(data=0.4304559683166165),\n",
       " Value(data=0.8211635953788865),\n",
       " Value(data=-0.7033276747218209),\n",
       " Value(data=-0.9843358574269199),\n",
       " Value(data=0.6039579134274784),\n",
       " Value(data=0.7000277326734743),\n",
       " Value(data=-0.6396165283436179),\n",
       " Value(data=-0.21709623726512461),\n",
       " Value(data=-0.8269076418293435),\n",
       " Value(data=-0.6587995793415913),\n",
       " Value(data=0.9699318892550068),\n",
       " Value(data=-0.952918770263431),\n",
       " Value(data=0.4273883659509883),\n",
       " Value(data=0.5735300497142668),\n",
       " Value(data=0.9755801555315966),\n",
       " Value(data=0.9645517720392878),\n",
       " Value(data=0.6058155856869738),\n",
       " Value(data=0.7345432270738534),\n",
       " Value(data=-0.3909372854673223),\n",
       " Value(data=0.859603326648664),\n",
       " Value(data=0.7478621976709545),\n",
       " Value(data=-0.3785981244584573),\n",
       " Value(data=0.7150164952172169),\n",
       " Value(data=-0.13642625813129117),\n",
       " Value(data=0.4312159315015114),\n",
       " Value(data=0.4156368972092417),\n",
       " Value(data=-0.06142087179504063),\n",
       " Value(data=0.5610203587979568),\n",
       " Value(data=-0.672978570058629),\n",
       " Value(data=-0.5583468775717444)]"
      ]
     },
     "execution_count": 125,
     "metadata": {},
     "output_type": "execute_result"
    }
   ],
   "source": [
    "n.parameters()"
   ]
  },
  {
   "cell_type": "code",
   "execution_count": 126,
   "id": "0d1ec015",
   "metadata": {},
   "outputs": [],
   "source": [
    "xs = [\n",
    "    [2.0,3.0,-1.0],\n",
    "    [3.0,-1.0,0.5],\n",
    "    [0.5,1.0,1.0],\n",
    "    [1.0,1.0,-1.0]\n",
    "]\n",
    "ys = [1.0,-1.0,-1.0,1.0]\n"
   ]
  },
  {
   "cell_type": "code",
   "execution_count": 127,
   "id": "bb3c83d4",
   "metadata": {},
   "outputs": [
    {
     "name": "stdout",
     "output_type": "stream",
     "text": [
      "0 7.277972446388735\n",
      "1 4.984609373733125\n",
      "2 4.030049808002784\n",
      "3 4.777194220118353\n",
      "4 3.989857564905493\n",
      "5 3.306178355089598\n",
      "6 1.9988777558026158\n",
      "7 2.540052057272908\n",
      "8 1.3090382074719469\n",
      "9 3.2977764540713475\n",
      "10 2.1409267233255322\n",
      "11 1.6278421796278688\n",
      "12 1.3199087970532966\n",
      "13 1.1483489679976686\n",
      "14 0.9342858645555222\n",
      "15 0.8728409310833051\n",
      "16 0.6362706613747248\n",
      "17 0.615066961162386\n",
      "18 0.5546353992510836\n",
      "19 0.5054551301314278\n",
      "20 0.4504727365763444\n",
      "21 0.4052100573291926\n",
      "22 0.420956056558635\n",
      "23 0.3553563532133188\n",
      "24 0.33597969561338176\n",
      "25 0.3076210256489913\n",
      "26 0.3056371791000999\n",
      "27 0.27679427279773205\n",
      "28 0.2626750539687137\n",
      "29 0.2554072270925585\n",
      "30 0.24200235901083905\n",
      "31 0.23475525487750568\n",
      "32 0.2266832937759217\n",
      "33 0.21573547724390438\n",
      "34 0.19740384485107407\n",
      "35 0.1899082174606248\n",
      "36 0.1822051490391615\n",
      "37 0.17873155299323001\n",
      "38 0.17427123508807552\n",
      "39 0.1691256531944366\n",
      "40 0.15754948721147416\n",
      "41 0.15206445327272425\n",
      "42 0.1469955099422316\n",
      "43 0.14221449500374989\n",
      "44 0.13749821441987564\n",
      "45 0.13343216692255755\n",
      "46 0.130389995966717\n",
      "47 0.12636307008629077\n",
      "48 0.1231930989016979\n",
      "49 0.12018043014996056\n",
      "50 0.11721706974310137\n",
      "51 0.11428317013367884\n",
      "52 0.11145116826175423\n",
      "53 0.10871378321807308\n",
      "54 0.10580834357379304\n",
      "55 0.10314945836806837\n",
      "56 0.10073193854519888\n",
      "57 0.09846438496979966\n",
      "58 0.09657098472017253\n",
      "59 0.09388488993894785\n",
      "60 0.09190896112976282\n",
      "61 0.08974016936809011\n",
      "62 0.08792482808365125\n",
      "63 0.08628017597045375\n",
      "64 0.0843762191972846\n",
      "65 0.082744443791551\n",
      "66 0.08117866906245494\n",
      "67 0.07965942057132894\n",
      "68 0.07808118118322538\n",
      "69 0.07665044873432424\n",
      "70 0.0752791889742174\n",
      "71 0.07395498651934107\n",
      "72 0.07260639613363494\n",
      "73 0.07144767892406893\n",
      "74 0.07011560417798673\n",
      "75 0.0689783627240154\n",
      "76 0.06782727827895033\n",
      "77 0.06665366349401292\n",
      "78 0.06559442229553339\n",
      "79 0.06453623732363224\n",
      "80 0.06355396826787393\n",
      "81 0.06255811934953974\n",
      "82 0.06173814401550136\n",
      "83 0.06080070876151276\n",
      "84 0.0600022465820607\n",
      "85 0.059116703953439334\n",
      "86 0.0584318242883984\n",
      "87 0.05742607853790289\n",
      "88 0.056598863285445736\n",
      "89 0.056068759610039834\n",
      "90 0.055034349018709745\n",
      "91 0.054264861269074684\n",
      "92 0.0534896066337444\n",
      "93 0.05280895593944203\n",
      "94 0.05219779410451065\n",
      "95 0.05150741996075645\n",
      "96 0.050751961648533364\n",
      "97 0.050227138967829196\n",
      "98 0.04966161367309535\n",
      "99 0.04930230757671068\n",
      "100 0.048626246529976574\n",
      "101 0.04842056190360071\n",
      "102 0.04762854087381119\n",
      "103 0.046982920787191934\n",
      "104 0.046470332052921025\n",
      "105 0.04604399509256758\n",
      "106 0.04533609505085616\n",
      "107 0.04464974808831143\n",
      "108 0.044148149791662775\n",
      "109 0.043626235043562306\n",
      "110 0.04309691066069381\n",
      "111 0.04262417512569071\n",
      "112 0.04218641273363283\n",
      "113 0.041746073518125974\n",
      "114 0.0413043866256059\n",
      "115 0.0408185948993652\n",
      "116 0.04039298876959547\n",
      "117 0.04000393946879379\n",
      "118 0.03958391017821093\n",
      "119 0.03913308100686863\n",
      "120 0.03877829016392001\n",
      "121 0.03838545857439453\n",
      "122 0.03801749593673394\n",
      "123 0.03770810686348447\n",
      "124 0.03731500294360595\n",
      "125 0.037028668191325664\n",
      "126 0.0366609283513116\n",
      "127 0.03636239970179134\n",
      "128 0.036103898159178444\n",
      "129 0.03568194770588394\n",
      "130 0.035447743056527745\n",
      "131 0.035020285046896193\n",
      "132 0.03475411661622907\n",
      "133 0.034405645579263476\n",
      "134 0.03409172433704971\n",
      "135 0.03388778560270414\n",
      "136 0.03350365500620621\n",
      "137 0.033203106324324286\n",
      "138 0.03283636694019538\n",
      "139 0.03255584588661349\n",
      "140 0.03223907300648458\n",
      "141 0.03194201647138725\n",
      "142 0.031667455099150456\n",
      "143 0.03143515811000454\n",
      "144 0.031152056652065545\n",
      "145 0.03090377760211931\n",
      "146 0.030671902246123504\n",
      "147 0.030423518891125833\n",
      "148 0.03019241630148732\n",
      "149 0.029939776741715378\n",
      "150 0.02973811418657244\n",
      "151 0.029548634540452874\n",
      "152 0.029271708736514364\n",
      "153 0.02909143589371563\n",
      "154 0.028856532977738297\n",
      "155 0.028610794477408826\n",
      "156 0.028458408521598026\n",
      "157 0.02821436980651329\n",
      "158 0.027996718613964744\n",
      "159 0.027782993957666077\n",
      "160 0.027563752240457033\n",
      "161 0.027363625520649422\n",
      "162 0.02715283678110838\n",
      "163 0.026934726954994583\n",
      "164 0.026750652048204007\n",
      "165 0.026546243194544343\n",
      "166 0.026377269639530396\n",
      "167 0.02618183460964633\n",
      "168 0.025998493529161084\n",
      "169 0.025799449420418234\n",
      "170 0.02562512717943608\n",
      "171 0.025433736072637665\n",
      "172 0.025253808825162358\n",
      "173 0.025075275142204735\n",
      "174 0.024899630165022488\n",
      "175 0.024715488516739725\n",
      "176 0.024555561315159225\n",
      "177 0.02439183807902038\n",
      "178 0.024222711069954772\n",
      "179 0.02404651479761049\n",
      "180 0.023889497152589066\n",
      "181 0.023733855415037156\n",
      "182 0.023583024729947923\n",
      "183 0.02342316762858998\n",
      "184 0.02327706031392211\n",
      "185 0.02313400760979816\n",
      "186 0.02298166268978223\n",
      "187 0.022832868506533665\n",
      "188 0.022685460703925735\n",
      "189 0.022539415687767194\n",
      "190 0.022406192288635933\n",
      "191 0.022266671188460152\n",
      "192 0.022131655757109604\n",
      "193 0.021994857318090352\n",
      "194 0.02186001571313391\n",
      "195 0.0217244439136517\n",
      "196 0.021592277193655866\n",
      "197 0.021465029291250128\n",
      "198 0.02133072837057548\n",
      "199 0.0212015439143542\n",
      "200 0.02107518435533122\n",
      "201 0.020952768463921252\n",
      "202 0.020831471306161645\n",
      "203 0.02071264022760002\n",
      "204 0.020594439962474634\n",
      "205 0.020477296582480244\n",
      "206 0.020363990587532153\n",
      "207 0.0202493742178361\n",
      "208 0.020137551753992244\n",
      "209 0.020026375538828287\n",
      "210 0.01991447561773571\n",
      "211 0.019802669458513444\n",
      "212 0.019693774987926505\n",
      "213 0.019587391207946392\n",
      "214 0.0194789124156029\n",
      "215 0.01937537314827156\n",
      "216 0.01927013038182873\n",
      "217 0.019166234273618136\n",
      "218 0.019064183336668455\n",
      "219 0.018965099520242716\n",
      "220 0.01886154183336701\n",
      "221 0.018762532250721387\n",
      "222 0.018665037307759244\n",
      "223 0.018568173440740486\n",
      "224 0.018473701787792556\n",
      "225 0.018380163177878\n",
      "226 0.018286014133676615\n",
      "227 0.01819336829961126\n",
      "228 0.018102141299926273\n",
      "229 0.018011183435801516\n",
      "230 0.017922269753473854\n",
      "231 0.017832890069496826\n",
      "232 0.017745937835744345\n",
      "233 0.01765745666761913\n",
      "234 0.01757157307366283\n",
      "235 0.01748653260042478\n",
      "236 0.01740144453066229\n",
      "237 0.01731706023015214\n",
      "238 0.017234275984503528\n",
      "239 0.017150596349971785\n",
      "240 0.017066768861024772\n",
      "241 0.01698582240020214\n",
      "242 0.016901964015197075\n",
      "243 0.016822855992862384\n",
      "244 0.016745170282621357\n",
      "245 0.016661368663966968\n",
      "246 0.016582925820484512\n",
      "247 0.016500930902218394\n",
      "248 0.016425713180831577\n",
      "249 0.016348587188748234\n",
      "250 0.016272264047579782\n",
      "251 0.016197812785657503\n",
      "252 0.016123834220467384\n",
      "253 0.01605115732424434\n",
      "254 0.01597829680031787\n",
      "255 0.01590732774948704\n",
      "256 0.015836318877838956\n",
      "257 0.015764786244371845\n",
      "258 0.015694353834075653\n",
      "259 0.01562615704275395\n",
      "260 0.015557618891595015\n",
      "261 0.01548766171082512\n",
      "262 0.015420552816499743\n",
      "263 0.015354748722803006\n",
      "264 0.015287784729384192\n",
      "265 0.015221515072292403\n",
      "266 0.015157259641720152\n",
      "267 0.015093350888914933\n",
      "268 0.015028970712897872\n",
      "269 0.014965712202158747\n",
      "270 0.014902577837510301\n",
      "271 0.014841589225704145\n",
      "272 0.014779719800453828\n",
      "273 0.014718659747545848\n",
      "274 0.014658437267716654\n",
      "275 0.014594625743020973\n",
      "276 0.014534847984659954\n",
      "277 0.014475011893885708\n",
      "278 0.01441493444695333\n",
      "279 0.014357436790292683\n",
      "280 0.014299386817974005\n",
      "281 0.014243266226139067\n",
      "282 0.014184810829238517\n",
      "283 0.014127097879567634\n",
      "284 0.014069940380111296\n",
      "285 0.014013949604172467\n",
      "286 0.013958965791385577\n",
      "287 0.013904700199159724\n",
      "288 0.01385045547542301\n",
      "289 0.013795111867405101\n",
      "290 0.013742409031039127\n",
      "291 0.01368913061446655\n",
      "292 0.013634992001079075\n",
      "293 0.01358296913774991\n",
      "294 0.013528257533519468\n",
      "295 0.013476077106411577\n",
      "296 0.013425119490016365\n",
      "297 0.01337381710496572\n",
      "298 0.013322325079869763\n",
      "299 0.013273655240709286\n",
      "300 0.01322369907048998\n",
      "301 0.01317444932443456\n",
      "302 0.01312322871519183\n",
      "303 0.013074126023231035\n",
      "304 0.013027607046679997\n",
      "305 0.012979218664535027\n",
      "306 0.012932696954357954\n",
      "307 0.012883752943766239\n",
      "308 0.012836109104691101\n",
      "309 0.012789078289071082\n",
      "310 0.01274220640217148\n",
      "311 0.012695511494365016\n",
      "312 0.012649252726889864\n",
      "313 0.012604095939175464\n",
      "314 0.01255869542441096\n",
      "315 0.012512752072817341\n",
      "316 0.012468684900247778\n",
      "317 0.01242499218183371\n",
      "318 0.012379266810066809\n",
      "319 0.012334229504586673\n",
      "320 0.012291973670018674\n",
      "321 0.012249056451852461\n",
      "322 0.012206751121643135\n",
      "323 0.01216373738305768\n",
      "324 0.01212090010814983\n",
      "325 0.012078840181276036\n",
      "326 0.012034965131185972\n",
      "327 0.011994530852283716\n",
      "328 0.01195315299712192\n",
      "329 0.011912582700913263\n",
      "330 0.01187198221494014\n",
      "331 0.011830170057181472\n",
      "332 0.011790869203492035\n",
      "333 0.011749939570751832\n",
      "334 0.01171095545909625\n",
      "335 0.011670596869952301\n",
      "336 0.011632496984297809\n",
      "337 0.011593306851735053\n",
      "338 0.011554825186664909\n",
      "339 0.011516762281080214\n",
      "340 0.011478683727081662\n",
      "341 0.01144173280348625\n",
      "342 0.011404874358688201\n",
      "343 0.011367828313017315\n",
      "344 0.011330648815172938\n",
      "345 0.01129280512843638\n",
      "346 0.011255986380482329\n",
      "347 0.011217711706719147\n",
      "348 0.01118243114587662\n",
      "349 0.011145803384374407\n",
      "350 0.011108913649083474\n",
      "351 0.011074273657559119\n",
      "352 0.0110390889872808\n",
      "353 0.01100397773921771\n",
      "354 0.010968872364067328\n",
      "355 0.010933973955546662\n",
      "356 0.01090037049426603\n",
      "357 0.010866471967692547\n",
      "358 0.010832203163363145\n",
      "359 0.010798466056570952\n",
      "360 0.01076427649625673\n",
      "361 0.010730848489857538\n",
      "362 0.010698634639687309\n",
      "363 0.010665758987329023\n",
      "364 0.010632921460977164\n",
      "365 0.010599593784547993\n",
      "366 0.010566143389216253\n",
      "367 0.010533215050089969\n",
      "368 0.010502505805381052\n",
      "369 0.01047099543516013\n",
      "370 0.010440485547582996\n",
      "371 0.01040771344124116\n",
      "372 0.010376653848062665\n",
      "373 0.010345460379733697\n",
      "374 0.01031451775312165\n",
      "375 0.010284734716097197\n",
      "376 0.010255394836134881\n"
     ]
    },
    {
     "name": "stdout",
     "output_type": "stream",
     "text": [
      "377 0.010224993549455575\n",
      "378 0.010195654887725806\n",
      "379 0.01016562204291556\n",
      "380 0.010134897135198509\n",
      "381 0.010105905094333817\n",
      "382 0.010075820286816556\n",
      "383 0.01004635782069126\n",
      "384 0.010015499240885427\n",
      "385 0.00998644933269337\n",
      "386 0.009958112816415352\n",
      "387 0.009930332187110681\n",
      "388 0.00990112448503006\n",
      "389 0.00987268596652985\n",
      "390 0.009844229190676181\n",
      "391 0.009816596220993203\n",
      "392 0.009789309691116478\n",
      "393 0.009761463861373831\n",
      "394 0.009733238639172139\n",
      "395 0.009706652115898393\n",
      "396 0.009680000440521933\n",
      "397 0.00965282662319835\n",
      "398 0.009626216626240622\n",
      "399 0.009599216491055407\n",
      "400 0.009572428192960942\n",
      "401 0.009545827349003229\n",
      "402 0.009519613141938811\n",
      "403 0.009494552704665468\n",
      "404 0.009468273961335733\n",
      "405 0.009441937218866223\n",
      "406 0.00941685708573435\n",
      "407 0.009391452571478075\n",
      "408 0.00936631565849809\n",
      "409 0.009341933612594385\n",
      "410 0.009317267562286194\n",
      "411 0.009292023896873756\n",
      "412 0.009267372482681984\n",
      "413 0.009242522125972787\n",
      "414 0.00921804381534923\n",
      "415 0.00919319115050535\n",
      "416 0.009168650086332384\n",
      "417 0.009144176049003597\n",
      "418 0.009119677951095435\n",
      "419 0.009095202929026254\n",
      "420 0.00907079865087071\n",
      "421 0.009047535370746491\n",
      "422 0.009023933191981722\n",
      "423 0.009000228959427453\n",
      "424 0.008976378207731554\n",
      "425 0.00895197659914074\n",
      "426 0.00892934615316181\n",
      "427 0.008906133040867754\n",
      "428 0.008882838979351599\n",
      "429 0.008859034338892149\n",
      "430 0.008836148996027728\n",
      "431 0.008813735725541734\n",
      "432 0.00879070533507413\n",
      "433 0.00876847444364385\n",
      "434 0.008747049000475328\n",
      "435 0.008724734453820795\n",
      "436 0.008701658937076154\n",
      "437 0.008679461693488707\n",
      "438 0.008657547356641742\n",
      "439 0.008635754212669837\n",
      "440 0.008613623358920876\n",
      "441 0.00859256391608594\n",
      "442 0.008570786488150357\n",
      "443 0.008549044819078396\n",
      "444 0.008527483152755307\n",
      "445 0.008506383163167442\n",
      "446 0.008484688138523058\n",
      "447 0.008463180853369213\n",
      "448 0.008441927284334738\n",
      "449 0.008421106517736004\n",
      "450 0.008400493104892779\n",
      "451 0.008379855867815528\n",
      "452 0.008359882585610438\n",
      "453 0.008339122668098156\n",
      "454 0.00831901689858704\n",
      "455 0.008299848000711782\n",
      "456 0.008279581500378382\n",
      "457 0.008259525002999831\n",
      "458 0.008239572826509556\n",
      "459 0.008219375042600483\n",
      "460 0.008200252585749364\n",
      "461 0.008180180998361198\n",
      "462 0.008160403994951385\n",
      "463 0.008140251420677116\n",
      "464 0.00812064304373913\n",
      "465 0.00810121282994807\n",
      "466 0.008082794248644255\n",
      "467 0.008063669042719867\n",
      "468 0.008045130992822142\n",
      "469 0.008026182427908967\n",
      "470 0.00800758625555286\n",
      "471 0.007988928992357973\n",
      "472 0.007970040999903867\n",
      "473 0.007951189361520828\n",
      "474 0.007931770086591645\n",
      "475 0.007913305074592224\n",
      "476 0.007894038715779128\n",
      "477 0.007875158831760543\n",
      "478 0.007856791479892784\n",
      "479 0.007838774190167444\n",
      "480 0.007821511292340691\n",
      "481 0.007802961112861068\n",
      "482 0.007785623181694696\n",
      "483 0.007768494454024562\n",
      "484 0.007750841976085847\n",
      "485 0.007733424122839399\n",
      "486 0.0077159002046651645\n",
      "487 0.007698942636364211\n",
      "488 0.007680532340839317\n",
      "489 0.0076627483897909335\n",
      "490 0.007645610402750793\n",
      "491 0.007627879009572888\n",
      "492 0.00761099168705328\n",
      "493 0.00759418564496533\n",
      "494 0.007577057088110328\n",
      "495 0.007560077099150149\n",
      "496 0.007543288890853787\n",
      "497 0.0075261676695870285\n",
      "498 0.007510353978391402\n",
      "499 0.00749293829392109\n",
      "500 0.007476545207400814\n",
      "501 0.007460496251927114\n",
      "502 0.007444136251817778\n",
      "503 0.0074282789753846905\n",
      "504 0.007412803601351157\n",
      "505 0.00739602382205253\n",
      "506 0.0073797791642378615\n",
      "507 0.0073638041904458395\n",
      "508 0.007347797637705336\n",
      "509 0.007332169247036143\n",
      "510 0.007316348111100553\n",
      "511 0.007300590638321442\n",
      "512 0.007284386606093011\n",
      "513 0.0072685454630625635\n",
      "514 0.007253024213451093\n",
      "515 0.007237734709823063\n",
      "516 0.007223105469233209\n",
      "517 0.007207744846010984\n",
      "518 0.007192985797564475\n",
      "519 0.00717794764990677\n",
      "520 0.007162967464949388\n",
      "521 0.007148107759722119\n",
      "522 0.007132834881121191\n",
      "523 0.007118016229046756\n",
      "524 0.0071033917251881636\n",
      "525 0.0070885460507133895\n",
      "526 0.0070737756044882754\n",
      "527 0.0070597126162123495\n",
      "528 0.007045529091000792\n",
      "529 0.0070310351013446685\n",
      "530 0.007015879630598946\n",
      "531 0.007001639901161135\n",
      "532 0.006986812787690327\n",
      "533 0.0069730035234957495\n",
      "534 0.0069586610670805266\n",
      "535 0.006944269384250466\n",
      "536 0.0069309036051382784\n",
      "537 0.006916785999996178\n",
      "538 0.006902308962261029\n",
      "539 0.006887733383283029\n",
      "540 0.006873831849419777\n",
      "541 0.006859911555642004\n",
      "542 0.006846011848824481\n",
      "543 0.006831103129083479\n",
      "544 0.0068173222190448\n",
      "545 0.0068037027910932265\n",
      "546 0.006789869424799255\n",
      "547 0.006776217040613649\n",
      "548 0.0067628638239015755\n",
      "549 0.006749671674041546\n",
      "550 0.006736152672095557\n",
      "551 0.0067227586308297145\n",
      "552 0.0067097416777024245\n",
      "553 0.006696041570359166\n",
      "554 0.0066829905367052165\n",
      "555 0.0066701258859098176\n",
      "556 0.006656821308255492\n",
      "557 0.00664390523277647\n",
      "558 0.006631551217427176\n",
      "559 0.0066187030169271265\n",
      "560 0.006604809443495143\n",
      "561 0.006591239597020484\n",
      "562 0.006578871587103034\n",
      "563 0.006566554789671284\n",
      "564 0.006554001683594017\n",
      "565 0.006541640345486388\n",
      "566 0.006529176312265416\n",
      "567 0.0065164078513673725\n",
      "568 0.006503798113844771\n",
      "569 0.006491367506651079\n",
      "570 0.006479202603814383\n",
      "571 0.006466288285605051\n",
      "572 0.006453801417595142\n",
      "573 0.0064409153285400105\n",
      "574 0.006428336507446704\n",
      "575 0.006416455592165497\n",
      "576 0.006404337950007727\n",
      "577 0.0063914584505861925\n",
      "578 0.006379355001898289\n",
      "579 0.006367266453603472\n",
      "580 0.006356025747336894\n",
      "581 0.006343922365123742\n",
      "582 0.00633181056570257\n",
      "583 0.006319779130098738\n",
      "584 0.006307936741776881\n",
      "585 0.00629615009203281\n",
      "586 0.006284498741886579\n",
      "587 0.006272891157510482\n",
      "588 0.006261305222546162\n",
      "589 0.006250132450683611\n",
      "590 0.00623807121950954\n",
      "591 0.00622681781665603\n",
      "592 0.006215741706266225\n",
      "593 0.00620461369479193\n",
      "594 0.006193511127560238\n",
      "595 0.006182098346385365\n",
      "596 0.00617093548406754\n",
      "597 0.0061593208712230054\n",
      "598 0.006148226291732881\n",
      "599 0.006136852317455919\n",
      "600 0.0061259218828145804\n",
      "601 0.0061148892537147915\n",
      "602 0.006103818226588388\n",
      "603 0.006092512054843152\n",
      "604 0.006081677298471628\n",
      "605 0.006070700868476085\n",
      "606 0.006060048293269489\n",
      "607 0.006049304907794194\n",
      "608 0.006038745251733344\n",
      "609 0.006028357618776725\n",
      "610 0.006018142682716094\n",
      "611 0.006007210825054478\n",
      "612 0.005997035465767296\n",
      "613 0.005986512913972057\n",
      "614 0.005975869281720387\n",
      "615 0.0059652355332578495\n",
      "616 0.005955002513553858\n",
      "617 0.005944469704685538\n",
      "618 0.005934140334843384\n",
      "619 0.005923635894078287\n",
      "620 0.00591379694101605\n",
      "621 0.005903369063412829\n",
      "622 0.005893286208284396\n",
      "623 0.0058835208019625326\n",
      "624 0.0058732081692723145\n",
      "625 0.005862782387198212\n",
      "626 0.0058528358307825545\n",
      "627 0.005842518134216211\n",
      "628 0.005832239136483785\n",
      "629 0.005822236838657272\n",
      "630 0.005812472957555196\n",
      "631 0.005802464121902091\n",
      "632 0.005792028360282775\n",
      "633 0.005782032034225723\n",
      "634 0.005772072406187941\n",
      "635 0.005762166114192425\n",
      "636 0.005752624132575778\n",
      "637 0.0057427781773379954\n",
      "638 0.005732995122559519\n",
      "639 0.0057233630783335675\n",
      "640 0.00571386244778774\n",
      "641 0.005704427149207316\n",
      "642 0.00569471274188508\n",
      "643 0.0056849963398137\n",
      "644 0.0056750100676745945\n",
      "645 0.005665714052648077\n",
      "646 0.005656112099687011\n",
      "647 0.0056464622099088434\n",
      "648 0.0056372409860039096\n",
      "649 0.005627778727400545\n",
      "650 0.005618592399041935\n",
      "651 0.005609462803928267\n",
      "652 0.00559999185337159\n",
      "653 0.005591076473586018\n",
      "654 0.005581827807761491\n",
      "655 0.0055726775540451065\n",
      "656 0.0055633653843994175\n",
      "657 0.005553743283870363\n",
      "658 0.005544953617969618\n",
      "659 0.005535529623631704\n",
      "660 0.00552628388356933\n",
      "661 0.005517214963929655\n",
      "662 0.005508459107441536\n",
      "663 0.005499382873476559\n",
      "664 0.005490366431364827\n",
      "665 0.005480894309396035\n",
      "666 0.0054723011289617325\n",
      "667 0.005463603568127312\n",
      "668 0.005454348654710128\n",
      "669 0.005445114424085493\n",
      "670 0.005436197633194889\n",
      "671 0.005427502563089786\n",
      "672 0.005418883439424131\n",
      "673 0.005409750365442171\n",
      "674 0.005401235624418291\n",
      "675 0.005392062585110584\n",
      "676 0.005383152485697001\n",
      "677 0.005374625286889192\n",
      "678 0.005366007754220914\n",
      "679 0.0053576137006080575\n",
      "680 0.005349094001146309\n",
      "681 0.0053405571626446114\n",
      "682 0.005332173727829832\n",
      "683 0.005323603994089501\n",
      "684 0.005314899514155997\n",
      "685 0.0053062722883794435\n",
      "686 0.00529797520008096\n",
      "687 0.005289596761893844\n",
      "688 0.005281422578154818\n",
      "689 0.005273163563029137\n",
      "690 0.005264834060297653\n",
      "691 0.005256607293234026\n",
      "692 0.0052485906538113775\n",
      "693 0.005240418627263828\n",
      "694 0.005232205988859677\n",
      "695 0.005224067780845373\n",
      "696 0.005215916730958727\n",
      "697 0.005207908137460911\n",
      "698 0.005199824249792421\n",
      "699 0.005191410695748666\n",
      "700 0.005183239653355799\n",
      "701 0.005175414541408582\n",
      "702 0.00516751458998305\n",
      "703 0.005159746401291356\n",
      "704 0.005151565907961259\n",
      "705 0.005143737334604175\n",
      "706 0.00513539525482126\n",
      "707 0.005127489729742916\n",
      "708 0.005119613229007693\n",
      "709 0.005111975553317402\n"
     ]
    },
    {
     "name": "stdout",
     "output_type": "stream",
     "text": [
      "710 0.005104322867504227\n",
      "711 0.0050964880475572304\n",
      "712 0.005088996462038345\n",
      "713 0.005081334316809307\n",
      "714 0.005073710384460744\n",
      "715 0.005065672359453009\n",
      "716 0.00505766194809726\n",
      "717 0.005050102392248626\n",
      "718 0.005042624318592246\n",
      "719 0.005035097839733863\n",
      "720 0.005027203117431827\n",
      "721 0.005019856931663004\n",
      "722 0.005012201770856623\n",
      "723 0.00500464471311087\n",
      "724 0.004996934184564456\n",
      "725 0.004989519597532071\n",
      "726 0.004981930456619999\n",
      "727 0.004974015395063377\n",
      "728 0.004966815444633024\n",
      "729 0.004959027046467028\n",
      "730 0.004951972293321144\n",
      "731 0.004944910682109473\n",
      "732 0.004937857928987538\n",
      "733 0.004930339123748545\n",
      "734 0.0049231474866943395\n",
      "735 0.004916090050757623\n",
      "736 0.004908918748990961\n",
      "737 0.0049017029405776695\n",
      "738 0.004894568777281904\n",
      "739 0.0048869931439047744\n",
      "740 0.004879927742824387\n",
      "741 0.004872694293187078\n",
      "742 0.004865758202319214\n",
      "743 0.004858562282823747\n",
      "744 0.004851505478660884\n",
      "745 0.004844600059750268\n",
      "746 0.004837622288674861\n",
      "747 0.004830635905549097\n",
      "748 0.0048236448712919485\n",
      "749 0.00481666348166652\n",
      "750 0.004809597699708108\n",
      "751 0.004802895999142848\n",
      "752 0.004796182997564983\n",
      "753 0.004789321755871899\n",
      "754 0.004782507375263041\n",
      "755 0.00477511310302136\n",
      "756 0.004768368379661986\n",
      "757 0.004761675004881203\n",
      "758 0.004754859911788291\n",
      "759 0.004748455313898353\n",
      "760 0.004741964802547944\n",
      "761 0.004735217713109101\n",
      "762 0.00472839534645427\n",
      "763 0.004721895022893006\n",
      "764 0.00471516333947367\n",
      "765 0.004708621205482361\n",
      "766 0.004701950445849548\n",
      "767 0.0046956139733917955\n",
      "768 0.004689112764020748\n",
      "769 0.004682606560089733\n",
      "770 0.00467628804699571\n",
      "771 0.004670134190771676\n",
      "772 0.004663226201174509\n",
      "773 0.004656671597798499\n",
      "774 0.004650327256809011\n",
      "775 0.0046440217105015846\n",
      "776 0.004637491607527339\n",
      "777 0.004631175371508865\n",
      "778 0.00462497703597581\n",
      "779 0.00461844989866889\n",
      "780 0.004612134660836065\n",
      "781 0.004605747642007053\n",
      "782 0.004599300120922269\n",
      "783 0.004592958000431927\n",
      "784 0.004586623289324621\n",
      "785 0.004580379165309597\n",
      "786 0.0045739681063907064\n",
      "787 0.004567766901103518\n",
      "788 0.004561196271121485\n",
      "789 0.00455512689861104\n",
      "790 0.004548980369659393\n",
      "791 0.004542703815246811\n",
      "792 0.004536578201106039\n",
      "793 0.004530386847241674\n",
      "794 0.004524312132030174\n",
      "795 0.004518156197428727\n",
      "796 0.0045120227242321335\n",
      "797 0.004505756478756461\n",
      "798 0.004499319900767578\n",
      "799 0.004493211357592841\n",
      "800 0.00448702051754093\n",
      "801 0.004480776162143719\n",
      "802 0.004474901429158203\n",
      "803 0.004469015751520342\n",
      "804 0.004463046014778351\n",
      "805 0.004456955045131735\n",
      "806 0.004451016738032251\n",
      "807 0.004444969718511568\n",
      "808 0.0044392624470020944\n",
      "809 0.0044333353850516\n",
      "810 0.00442739759056255\n",
      "811 0.0044217425354582136\n",
      "812 0.004415937110599592\n",
      "813 0.0044103240881082344\n",
      "814 0.004404539543863166\n",
      "815 0.0043989520487848835\n",
      "816 0.0043933344347439\n",
      "817 0.004387373165395999\n",
      "818 0.0043813405258862955\n",
      "819 0.004375636833233299\n",
      "820 0.004369906950481943\n",
      "821 0.004363759913795605\n",
      "822 0.004358008611280287\n",
      "823 0.004352501620976014\n",
      "824 0.004346809385475956\n",
      "825 0.004341161274575789\n",
      "826 0.004335259591181022\n",
      "827 0.004329603244342863\n",
      "828 0.004323961389576621\n",
      "829 0.004318432799085296\n",
      "830 0.0043124240835683385\n",
      "831 0.00430682804736172\n",
      "832 0.004301029896184353\n",
      "833 0.00429557590175563\n",
      "834 0.004289937103246058\n",
      "835 0.004284568287037338\n",
      "836 0.004279041560558517\n",
      "837 0.004273676561237339\n",
      "838 0.004267811883948023\n",
      "839 0.004262327525704176\n",
      "840 0.004256849197062021\n",
      "841 0.004251468649715212\n",
      "842 0.004245742237461837\n",
      "843 0.004240370688405057\n",
      "844 0.004234953952148889\n",
      "845 0.004229552022541248\n",
      "846 0.004224024105892848\n",
      "847 0.004218647751064607\n",
      "848 0.004213370789032124\n",
      "849 0.004207799844453405\n",
      "850 0.004202576893663152\n",
      "851 0.004197116732702727\n",
      "852 0.0041917642102497895\n",
      "853 0.004186562902165051\n",
      "854 0.004181396840076281\n",
      "855 0.004176201934663634\n",
      "856 0.0041708220997454665\n",
      "857 0.00416529251850562\n",
      "858 0.004160192119608263\n",
      "859 0.004155102025114668\n",
      "860 0.004149901671325108\n",
      "861 0.004144915874966692\n",
      "862 0.004139665466936279\n",
      "863 0.004134505730416915\n",
      "864 0.0041292043365245305\n",
      "865 0.0041239390897960465\n",
      "866 0.004118854545438872\n",
      "867 0.004113905781503393\n",
      "868 0.0041086335458286015\n",
      "869 0.004103587147311707\n",
      "870 0.004098660373214275\n",
      "871 0.0040935106932564426\n",
      "872 0.004088326406156325\n",
      "873 0.0040831004770332845\n",
      "874 0.004078258488103061\n",
      "875 0.004073232931053137\n",
      "876 0.004068205902404621\n",
      "877 0.004063017889648828\n",
      "878 0.004058195136900134\n",
      "879 0.004053268476226479\n",
      "880 0.004048397064891945\n",
      "881 0.004043411583908326\n",
      "882 0.004038681557348021\n",
      "883 0.004033511130145036\n",
      "884 0.004028659761320533\n",
      "885 0.004023882869017198\n",
      "886 0.004018997775495636\n",
      "887 0.004014203189139707\n",
      "888 0.004009241897394825\n",
      "889 0.004004373423410664\n",
      "890 0.003999496843192159\n",
      "891 0.003994710759640729\n",
      "892 0.003989933136189789\n",
      "893 0.00398493853559965\n",
      "894 0.003980216929215885\n",
      "895 0.003975435600548707\n",
      "896 0.003970702450467545\n",
      "897 0.003966038043781617\n",
      "898 0.003961313679090917\n",
      "899 0.003956557363288555\n",
      "900 0.003951450610570907\n",
      "901 0.003946706421339097\n",
      "902 0.003942141474122674\n",
      "903 0.0039374914688660514\n",
      "904 0.00393269263105211\n",
      "905 0.003927960822645528\n",
      "906 0.003923370793518309\n",
      "907 0.003918768765161416\n",
      "908 0.003914008928719867\n",
      "909 0.003909589345680285\n",
      "910 0.003905172030102896\n",
      "911 0.003900612020128245\n",
      "912 0.003895763467248865\n",
      "913 0.003890986317184446\n",
      "914 0.0038865519122976253\n",
      "915 0.0038819283268539534\n",
      "916 0.00387729747418837\n",
      "917 0.003872802172441611\n",
      "918 0.003868270948388726\n",
      "919 0.0038636338881735746\n",
      "920 0.003859227416308577\n",
      "921 0.003854639235962188\n",
      "922 0.0038502026862686574\n",
      "923 0.0038454900311469817\n",
      "924 0.003841021488379938\n",
      "925 0.00383664449419479\n",
      "926 0.003832092379612647\n",
      "927 0.003827754308166874\n",
      "928 0.003823488516536037\n",
      "929 0.0038191933895293548\n",
      "930 0.0038146059039149043\n",
      "931 0.003810259511431972\n",
      "932 0.0038058882863975727\n",
      "933 0.0038013139339089473\n",
      "934 0.003796915739210469\n",
      "935 0.0037924063762892033\n",
      "936 0.003788167800658144\n",
      "937 0.00378392294409966\n",
      "938 0.003779698381401621\n",
      "939 0.003775378692113912\n",
      "940 0.00377119055752031\n",
      "941 0.0037670882117647317\n",
      "942 0.0037629054668902413\n",
      "943 0.003758343619808505\n",
      "944 0.003753987922771811\n",
      "945 0.003749710346644113\n",
      "946 0.0037453943930152622\n",
      "947 0.0037409997492200975\n",
      "948 0.0037368091945050048\n",
      "949 0.0037327824021906016\n",
      "950 0.0037285522074671264\n",
      "951 0.003724221698150618\n",
      "952 0.0037201818541349506\n",
      "953 0.003715964722326309\n",
      "954 0.0037118342678067254\n",
      "955 0.0037078030255143406\n",
      "956 0.00370348862248859\n",
      "957 0.0036994241992884145\n",
      "958 0.003695283545864278\n",
      "959 0.0036913057363172582\n",
      "960 0.0036871016783479715\n",
      "961 0.003682990228891482\n",
      "962 0.0036787332177428004\n",
      "963 0.0036745943154900666\n",
      "964 0.0036705485906841605\n",
      "965 0.0036663062899325556\n",
      "966 0.0036622312612956355\n",
      "967 0.003658281625060671\n",
      "968 0.0036540934066321435\n",
      "969 0.0036500980260412326\n",
      "970 0.0036461525647170385\n",
      "971 0.003642117665520847\n",
      "972 0.0036380940568690847\n",
      "973 0.003634176132884254\n",
      "974 0.0036301904253676475\n",
      "975 0.003626241095214007\n",
      "976 0.0036222292032772945\n",
      "977 0.0036182274991717195\n",
      "978 0.0036141871726557465\n",
      "979 0.003610302712582194\n",
      "980 0.0036063107940615376\n",
      "981 0.0036023563056372223\n",
      "982 0.0035982052361939005\n",
      "983 0.0035943515682302545\n",
      "984 0.0035905825607216117\n",
      "985 0.0035866411852601113\n",
      "986 0.003582703310549623\n",
      "987 0.003578846503104486\n",
      "988 0.00357500841823276\n",
      "989 0.003571026475482293\n",
      "990 0.003567140240853429\n",
      "991 0.0035634987284253556\n",
      "992 0.0035594788428021298\n",
      "993 0.003555549445681549\n",
      "994 0.003551738870659246\n",
      "995 0.0035480445763958137\n",
      "996 0.003544371256646175\n",
      "997 0.0035405458266643697\n",
      "998 0.003536768688036349\n",
      "999 0.003532995408700935\n"
     ]
    }
   ],
   "source": [
    "for k in range(1000):\n",
    "    \n",
    "    ypred = [n(x) for x in xs]\n",
    "    loss = Value(0)\n",
    "    for ygt,yout in zip(ys,ypred):\n",
    "        loss+=(yout-ygt)**2 \n",
    "    for p in n.parameters():\n",
    "        p.grad=0\n",
    "    loss.backward()\n",
    "    \n",
    "    for p in n.parameters():\n",
    "        p.data += -0.01 *p.grad\n",
    "        \n",
    "    print(k, loss.data)"
   ]
  },
  {
   "cell_type": "code",
   "execution_count": 128,
   "id": "6f5d8520",
   "metadata": {},
   "outputs": [
    {
     "data": {
      "text/plain": [
       "[Value(data=0.972203814413373),\n",
       " Value(data=-0.9699796959390938),\n",
       " Value(data=-0.9699920781698227),\n",
       " Value(data=0.9690375477867235)]"
      ]
     },
     "execution_count": 128,
     "metadata": {},
     "output_type": "execute_result"
    }
   ],
   "source": [
    "ypred"
   ]
  },
  {
   "cell_type": "code",
   "execution_count": 129,
   "id": "a3445ca2",
   "metadata": {},
   "outputs": [
    {
     "data": {
      "text/plain": [
       "[1.0, -1.0, -1.0, 1.0]"
      ]
     },
     "execution_count": 129,
     "metadata": {},
     "output_type": "execute_result"
    }
   ],
   "source": [
    "ys"
   ]
  },
  {
   "cell_type": "code",
   "execution_count": null,
   "id": "9452a612",
   "metadata": {},
   "outputs": [],
   "source": []
  }
 ],
 "metadata": {
  "kernelspec": {
   "display_name": "Python 3 (ipykernel)",
   "language": "python",
   "name": "python3"
  },
  "language_info": {
   "codemirror_mode": {
    "name": "ipython",
    "version": 3
   },
   "file_extension": ".py",
   "mimetype": "text/x-python",
   "name": "python",
   "nbconvert_exporter": "python",
   "pygments_lexer": "ipython3",
   "version": "3.10.9"
  }
 },
 "nbformat": 4,
 "nbformat_minor": 5
}
